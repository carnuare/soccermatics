{
  "cells": [
    {
      "cell_type": "code",
      "execution_count": null,
      "metadata": {
        "collapsed": false
      },
      "outputs": [],
      "source": [
        "%matplotlib inline"
      ]
    },
    {
      "cell_type": "markdown",
      "metadata": {},
      "source": [
        "\n",
        "# Using Wyscout \n",
        "\n",
        "Getting familiar with Wyscout data\n"
      ]
    },
    {
      "cell_type": "code",
      "execution_count": 1,
      "metadata": {
        "collapsed": false
      },
      "outputs": [],
      "source": [
        "#importing necessary libraries\n",
        "import pathlib\n",
        "import os\n",
        "import pandas as pd\n",
        "import json"
      ]
    },
    {
      "attachments": {},
      "cell_type": "markdown",
      "metadata": {},
      "source": [
        "## Competition data\n",
        "In this dataframe you will find information about the id of a competition and available competitions.\n",
        "\n"
      ]
    },
    {
      "cell_type": "code",
      "execution_count": 5,
      "metadata": {
        "collapsed": false
      },
      "outputs": [
        {
          "name": "stdout",
          "output_type": "stream",
          "text": [
            "<class 'pandas.core.frame.DataFrame'>\n",
            "RangeIndex: 7 entries, 0 to 6\n",
            "Data columns (total 5 columns):\n",
            " #   Column  Non-Null Count  Dtype \n",
            "---  ------  --------------  ----- \n",
            " 0   name    7 non-null      object\n",
            " 1   wyId    7 non-null      int64 \n",
            " 2   format  7 non-null      object\n",
            " 3   area    7 non-null      object\n",
            " 4   type    7 non-null      object\n",
            "dtypes: int64(1), object(4)\n",
            "memory usage: 408.0+ bytes\n"
          ]
        }
      ],
      "source": [
        "#path to data\n",
        "# path = os.path.join(str(pathlib.Path().resolve()), 'data', 'Wyscout', 'competitions.json') # put # in front if used locally\n",
        "path = os.path.join('../wyscout-data', 'competitions.json')\n",
        "\n",
        "#open data \n",
        "with open(path) as f:\n",
        "    data = json.load(f)\n",
        "    #save it in dataframe \n",
        "df_competitions = pd.DataFrame(data)\n",
        "#structure of data\n",
        "df_competitions.info()"
      ]
    },
    {
      "cell_type": "markdown",
      "metadata": {},
      "source": [
        "## Match data\n",
        "In this dataframe you can find information about all games that were played in Premier League 2017/18 season.\n",
        "*wyId* is the unique id in the Wyscout database. \n",
        "\n"
      ]
    },
    {
      "cell_type": "code",
      "execution_count": 7,
      "metadata": {
        "collapsed": false
      },
      "outputs": [
        {
          "name": "stdout",
          "output_type": "stream",
          "text": [
            "<class 'pandas.core.frame.DataFrame'>\n",
            "RangeIndex: 380 entries, 0 to 379\n",
            "Data columns (total 14 columns):\n",
            " #   Column         Non-Null Count  Dtype \n",
            "---  ------         --------------  ----- \n",
            " 0   status         380 non-null    object\n",
            " 1   roundId        380 non-null    int64 \n",
            " 2   gameweek       380 non-null    int64 \n",
            " 3   teamsData      380 non-null    object\n",
            " 4   seasonId       380 non-null    int64 \n",
            " 5   dateutc        380 non-null    object\n",
            " 6   winner         380 non-null    int64 \n",
            " 7   venue          380 non-null    object\n",
            " 8   wyId           380 non-null    int64 \n",
            " 9   label          380 non-null    object\n",
            " 10  date           380 non-null    object\n",
            " 11  referees       380 non-null    object\n",
            " 12  duration       380 non-null    object\n",
            " 13  competitionId  380 non-null    int64 \n",
            "dtypes: int64(6), object(8)\n",
            "memory usage: 41.7+ KB\n"
          ]
        }
      ],
      "source": [
        "#path to data \n",
        "# path = os.path.join(str(pathlib.Path().resolve()), 'data', 'Wyscout', 'matches_England.json') # put # in front if used locally\n",
        "path = os.path.join('../wyscout-data/matches', 'matches_England.json') \n",
        "with open(path) as f:\n",
        "    data = json.load(f)\n",
        "#save it in a dataframe  \n",
        "df_matches = pd.DataFrame(data)\n",
        "#structure of data\n",
        "df_matches.info()"
      ]
    },
    {
      "cell_type": "markdown",
      "metadata": {},
      "source": [
        "## Player data\n",
        "In this dataframe you can find information about all players available for Wyscout public dataset. *wyId* is \n",
        "the player id in the Wyscout database. In the *currentTeamId* you can find the id of a team that the player plays form.\n",
        "*shortName* is an important column for vizualisations and rankings since player's name is written in a shorter way.\n",
        "\n"
      ]
    },
    {
      "cell_type": "code",
      "execution_count": 8,
      "metadata": {
        "collapsed": false
      },
      "outputs": [
        {
          "name": "stdout",
          "output_type": "stream",
          "text": [
            "<class 'pandas.core.frame.DataFrame'>\n",
            "RangeIndex: 3603 entries, 0 to 3602\n",
            "Data columns (total 14 columns):\n",
            " #   Column                 Non-Null Count  Dtype \n",
            "---  ------                 --------------  ----- \n",
            " 0   passportArea           3603 non-null   object\n",
            " 1   weight                 3603 non-null   int64 \n",
            " 2   firstName              3603 non-null   object\n",
            " 3   middleName             3603 non-null   object\n",
            " 4   lastName               3603 non-null   object\n",
            " 5   currentTeamId          3512 non-null   object\n",
            " 6   birthDate              3603 non-null   object\n",
            " 7   height                 3603 non-null   int64 \n",
            " 8   role                   3603 non-null   object\n",
            " 9   birthArea              3603 non-null   object\n",
            " 10  wyId                   3603 non-null   int64 \n",
            " 11  foot                   3603 non-null   object\n",
            " 12  shortName              3603 non-null   object\n",
            " 13  currentNationalTeamId  3603 non-null   object\n",
            "dtypes: int64(3), object(11)\n",
            "memory usage: 394.2+ KB\n"
          ]
        }
      ],
      "source": [
        "#path to data\n",
        "# path = os.path.join(str(pathlib.Path().resolve()), 'data', 'Wyscout', 'players.json') # put # in front if used locally\n",
        "path = os.path.join('../wyscout-data', 'players.json')  \n",
        "#open data\n",
        "with open(path) as f:\n",
        "    data = json.load(f)\n",
        "#save it in a dataframe  \n",
        "df_players = pd.DataFrame(data)\n",
        "#structure of data\n",
        "df_players.info()"
      ]
    },
    {
      "cell_type": "markdown",
      "metadata": {},
      "source": [
        "## Event data\n",
        "In this dataframe you can find information about all events that occured in all the games during 2017/18 Premier League\n",
        "season. *matchId* matches the wyId from *df_matches*, *playerId* matches *wyId* from *df_players*.*tags* provide information on additional characteristics of an event, for example\n",
        "if the pass was accurate. The location on the pass can be found in *positions*, but remeber, that the data are collected\n",
        "on 100x100 square with reverted y-axis. In the *eventName* you will find the basic name of an event, whereas *subEventName*\n",
        "provide more information. *eventSec* is the time of an event.\n",
        "\n",
        "If you want to learn more about Wyscout data, you can explore \n",
        "[WyScout API](https://apidocs.wyscout.com/), but remember to switch the version to 2.0 at the top of the page.\n",
        "\n",
        "This code is adjusted to the webpage with file size limit. If you want to open the data that is stored in the working\n",
        "directory, comment (put '#') before the following code and comment out the lines below them (delete '#').\n",
        "\n"
      ]
    },
    {
      "cell_type": "code",
      "execution_count": 10,
      "metadata": {
        "collapsed": false
      },
      "outputs": [
        {
          "name": "stdout",
          "output_type": "stream",
          "text": [
            "<class 'pandas.core.frame.DataFrame'>\n",
            "RangeIndex: 643150 entries, 0 to 643149\n",
            "Data columns (total 12 columns):\n",
            " #   Column        Non-Null Count   Dtype  \n",
            "---  ------        --------------   -----  \n",
            " 0   eventId       643150 non-null  int64  \n",
            " 1   subEventName  643150 non-null  object \n",
            " 2   tags          643150 non-null  object \n",
            " 3   playerId      643150 non-null  int64  \n",
            " 4   positions     643150 non-null  object \n",
            " 5   matchId       643150 non-null  int64  \n",
            " 6   eventName     643150 non-null  object \n",
            " 7   teamId        643150 non-null  int64  \n",
            " 8   matchPeriod   643150 non-null  object \n",
            " 9   eventSec      643150 non-null  float64\n",
            " 10  subEventId    643150 non-null  object \n",
            " 11  id            643150 non-null  int64  \n",
            "dtypes: float64(1), int64(5), object(6)\n",
            "memory usage: 58.9+ MB\n"
          ]
        }
      ],
      "source": [
        "#prepare empty dataframe\n",
        "# df_events = pd.DataFrame() # put # in front if used locally\n",
        "# for i in range(13): # put # in front if used locally\n",
        "#     #get file name and path to it\n",
        "#     file_name = 'events_England_' + str(i+1) + '.json' # put # in front if used locally\n",
        "#     path = os.path.join(str(pathlib.Path().resolve()), 'data', 'Wyscout', file_name) # put # in front if used locally\n",
        "#     #open data\n",
        "#     with open(path) as f: # put # in front if used locally\n",
        "#         data = json.load(f) # put # in front if used locally\n",
        "#     #append data to the dataframe\n",
        "#     df_events = pd.concat([df_events, pd.DataFrame(data)]) # put # in front if used locally\n",
        "\n",
        "\n",
        "path = os.path.join('../wyscout-data/events', 'events_England.json') # delete #\n",
        "with open(path) as f: # delete #\n",
        "    data = json.load(f) # delete #\n",
        "df_events = pd.DataFrame(data) # delete #\n",
        "\n",
        "#structure of data\n",
        "df_events.info()"
      ]
    }
  ],
  "metadata": {
    "kernelspec": {
      "display_name": "Python 3",
      "language": "python",
      "name": "python3"
    },
    "language_info": {
      "codemirror_mode": {
        "name": "ipython",
        "version": 3
      },
      "file_extension": ".py",
      "mimetype": "text/x-python",
      "name": "python",
      "nbconvert_exporter": "python",
      "pygments_lexer": "ipython3",
      "version": "3.9.13"
    }
  },
  "nbformat": 4,
  "nbformat_minor": 0
}
