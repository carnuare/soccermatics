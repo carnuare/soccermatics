{
  "cells": [
    {
      "cell_type": "code",
      "execution_count": null,
      "metadata": {
        "collapsed": false
      },
      "outputs": [],
      "source": [
        "%matplotlib inline"
      ]
    },
    {
      "attachments": {},
      "cell_type": "markdown",
      "metadata": {},
      "source": [
        "\n",
        "# Sign test\n",
        "In this tutorial we demonstrate how to check equal size of two samples using the sign test. To do so, we provide an example\n",
        "in which we check if Heung-Min Son shoots with both feet the same number of times. \n",
        "\n",
        "## Null and alternative hypothesis\n",
        "H0 = \"Heung-Min Son shoots with both feet the same number of times\"\n",
        "\n",
        "H1 = \"Heung-Min Son does not shoot with both feet the same number of times\"\n"
      ]
    },
    {
      "attachments": {},
      "cell_type": "markdown",
      "metadata": {},
      "source": [
        "The sign test is a non-parametric statistical test used to determine if there is a significant difference between two paired samples. It is particularly useful when the data is not normally distributed or when the sample size is small.\n",
        "\n",
        "The sign test works by comparing the signs of the differences between paired observations. Instead of comparing the actual values, it focuses on the direction of the differences. The steps involved in conducting a sign test are as follows:\n",
        "\n",
        "1. Hypothesis formulation: Define the null hypothesis (H0) and the alternative hypothesis (H1). In this case, the null hypothesis would be that Heung-Min Son shoots with both feet an equal number of times.\n",
        "\n",
        "2. Data collection: Collect paired observations of the variable of interest. For example, record the number of times Heung-Min Son shoots with his left foot and the number of times he shoots with his right foot.\n",
        "\n",
        "3. Calculate the differences: Calculate the differences between the paired observations.\n",
        "\n",
        "4. Assign signs: Assign a \"+\" sign if the difference is positive (right foot > left foot) and a \"-\" sign if the difference is negative (left foot > right foot). If there is no difference, you can omit it from the analysis.\n",
        "\n",
        "5. Count the number of \"+\" and \"-\" signs: Count the number of observations with each sign.\n",
        "\n",
        "6. Calculate the test statistic: The test statistic for the sign test is the smaller of the two counts (either \"+\" or \"-\").\n",
        "\n",
        "7. Determine the critical value: Based on the significance level and the sample size, determine the critical value from the sign test table or using a statistical software.\n",
        "\n",
        "8. Compare the test statistic to the critical value: If the test statistic is less than or equal to the critical value, reject the null hypothesis. Otherwise, fail to reject the null hypothesis.\n",
        "\n",
        "9. Draw conclusions: Based on the comparison in the previous step, draw conclusions about whether there is a significant difference between the two samples.\n",
        "\n",
        "In the example you mentioned, the sign test would involve collecting data on the number of times Heung-Min Son shoots with his left foot and his right foot. The sign test would then be applied to determine if there is a significant difference in the number of shots taken with each foot."
      ]
    },
    {
      "cell_type": "code",
      "execution_count": 1,
      "metadata": {
        "collapsed": false
      },
      "outputs": [],
      "source": [
        "import pandas as pd\n",
        "import numpy as np\n",
        "import json\n",
        "# plotting\n",
        "import matplotlib.pyplot as plt\n",
        "#opening data\n",
        "import os\n",
        "import pathlib\n",
        "import warnings\n",
        "\n",
        "pd.options.mode.chained_assignment = None # that is for avoiding some warnings\n",
        "warnings.filterwarnings('ignore')"
      ]
    },
    {
      "cell_type": "markdown",
      "metadata": {},
      "source": [
        "## Opening the dataset\n",
        "\n",
        "First we open the data. For this example we will use WyScout data from 2017/18 Premier League season.  To meet file size requirements of Github, we have to open it from different files,\n",
        "but you can open the file locally from the directory you saved it in. Also, we open the file containing all players in WyScout database.\n",
        "\n"
      ]
    },
    {
      "attachments": {},
      "cell_type": "markdown",
      "metadata": {},
      "source": [
        "NOTE: The method used by the tutorial to open simple files is unnecessarily confusing. It is better to use the pandas library to open the files. Also, \"train\" is not a good name for the variable that contains the data. It is better to use a name that describes the data such as \"events_england\". \"train\" is often used in machine learning to refer to the data used to train a model."
      ]
    },
    {
      "cell_type": "code",
      "execution_count": 3,
      "metadata": {
        "collapsed": false
      },
      "outputs": [],
      "source": [
        "# Open event data\n",
        "\n",
        "# information about all events that occured in all the games during 2017/18 Premier League\n",
        "path = '../wyscout-data/events/events_England.json'\n",
        "events_england = pd.read_json(path)\n",
        "\n",
        "# Open dataset with players\n",
        "path = '../wyscout-data/players.json'\n",
        "player_df = pd.read_json(path)"
      ]
    },
    {
      "attachments": {},
      "cell_type": "markdown",
      "metadata": {},
      "source": [
        "## Preparing the dataset\n",
        "\n",
        "First, we filter the events to only keep shots. Then, we check for Son's id in the player database. As the next step,\n",
        "we keep shots made by him. Then, we look for the shots made with his left (ones with *id* = 401) and right (ones with *id* = 401) foot.\n",
        "In the end, we create a list with ones for shots with his left foot and -1 for shots with his right foot.\n",
        "\n",
        "NOTE: So basically what we need to do is just count the number of times he shoots with each foot. We don't need to create a list with ones and -1s. We can just count the number of times he shoots with each foot and then use the sign test to determine if there is a significant difference between the two counts lmao.\n",
        "\n",
        "### Useful link\n",
        "\n",
        "[Here](https://support.wyscout.com/matches-wyid-events#9-available-event-and-sub-event-ids-combinations) is the avaliable documentation on WyScout event and stuff. We found that subevent id 401 is a shot with the left foot and 402 is a shot with the right foot.\n",
        "\n"
      ]
    },
    {
      "cell_type": "code",
      "execution_count": 13,
      "metadata": {},
      "outputs": [
        {
          "data": {
            "image/png": "[encoded data removed]",
            "text/plain": [
              "<Figure size 640x480 with 1 Axes>"
            ]
          },
          "metadata": {},
          "output_type": "display_data"
        }
      ],
      "source": [
        "# My method\n",
        "\n",
        "# Take shots only using pd\n",
        "shots = events_england[events_england['subEventName']=='Shot']\n",
        "\n",
        "# Take son's id\n",
        "son_id = player_df[player_df['shortName']=='Son Heung-Min'].wyId.values[0]\n",
        "\n",
        "son_shots = shots[shots['playerId']==son_id]\n",
        "\n",
        "# Count left foot shots subevent id = 401 (tags)\n",
        "left_shots = son_shots[son_shots['tags'].apply(lambda x: {'id': 401} in x)]\n",
        "cnt_left_shots = len(left_shots)\n",
        "\n",
        "# Count right foot shots subevent id = 402 (tags)\n",
        "right_shots = son_shots[son_shots['tags'].apply(lambda x: {'id': 402} in x)]\n",
        "cnt_right_shots = len(right_shots)\n",
        "\n",
        "# Plot two bars, left light gray, right dark gray\n",
        "plt.bar(['Left foot', 'Right foot'], [cnt_left_shots, cnt_right_shots], color=['0.8', '0.4'])\n",
        "plt.title('Son Heung-Min number of shots')\n",
        "\n",
        "# Add value on top of each bar\n",
        "plt.text(0, cnt_left_shots, cnt_left_shots, ha='center', va='bottom')\n",
        "plt.text(1, cnt_right_shots, cnt_right_shots, ha='center', va='bottom')\n",
        "\n",
        "plt.show()\n"
      ]
    },
    {
      "attachments": {},
      "cell_type": "markdown",
      "metadata": {},
      "source": [
        "After seeing this result, we don't need a statistical test to conclude that Son shoots more with his right foot than with his left foot. In simple cases it's important to check the data before applying a statistical test."
      ]
    },
    {
      "cell_type": "code",
      "execution_count": 6,
      "metadata": {
        "collapsed": false
      },
      "outputs": [],
      "source": [
        "# Tutorial method\n",
        "\n",
        "#take shots only\n",
        "shots = events_england.loc[events_england['subEventName'] == 'Shot'] \n",
        "#look for son's id\n",
        "son_id = player_df.loc[player_df[\"shortName\"] == \"Son Heung-Min\"][\"wyId\"].iloc[0]\n",
        "#get son's shot\n",
        "son_shots = shots.loc[shots[\"playerId\"] == son_id]\n",
        "\n",
        "#left leg shots\n",
        "lefty_shots = son_shots.loc[son_shots.apply (lambda x:{'id':401} in x.tags, axis = 1)]\n",
        "#right leg shots\n",
        "righty_shots = son_shots.loc[son_shots.apply (lambda x:{'id':402} in x.tags, axis = 1)]\n",
        "\n",
        "#create list with ones for left foot shots and -1 for right foot shots   \n",
        "l = [1] * len(lefty_shots) \n",
        "l.extend([-1] * len(righty_shots))"
      ]
    },
    {
      "cell_type": "markdown",
      "metadata": {},
      "source": [
        "## Testing the hypothesis\n",
        "\n",
        "Now we can test the hypothesis that Heung-Min Son is indeed ambidextrous. To do so, a [sign test](https://en.wikipedia.org/wiki/Sign_test) is used.\n",
        "We set the significance level at 0.05. After conducting the hypothesis, there's no reason to reject the null hypothesis. Therefore, we claim that\n",
        "Son shoots with his right and left foot the same number of times.\n",
        "\n"
      ]
    },
    {
      "cell_type": "code",
      "execution_count": 8,
      "metadata": {},
      "outputs": [
        {
          "name": "stdout",
          "output_type": "stream",
          "text": [
            "Collecting statsmodels\n",
            "  Downloading statsmodels-0.14.0-cp39-cp39-macosx_11_0_arm64.whl (9.4 MB)\n",
            "\u001b[2K     \u001b[90m━━━━━━━━━━━━━━━━━━━━━━━━━━━━━━━━━━━━━━━━\u001b[0m \u001b[32m9.4/9.4 MB\u001b[0m \u001b[31m28.2 MB/s\u001b[0m eta \u001b[36m0:00:00\u001b[0ma \u001b[36m0:00:01\u001b[0m\n",
            "\u001b[?25hRequirement already satisfied: packaging>=21.3 in /Users/carlos/dev/soccermatics/soccer-env/lib/python3.9/site-packages (from statsmodels) (23.1)\n",
            "Requirement already satisfied: pandas>=1.0 in /Users/carlos/dev/soccermatics/soccer-env/lib/python3.9/site-packages (from statsmodels) (2.0.2)\n",
            "Collecting patsy>=0.5.2\n",
            "  Downloading patsy-0.5.3-py2.py3-none-any.whl (233 kB)\n",
            "\u001b[2K     \u001b[90m━━━━━━━━━━━━━━━━━━━━━━━━━━━━━━━━━━━━━━\u001b[0m \u001b[32m233.8/233.8 kB\u001b[0m \u001b[31m22.1 MB/s\u001b[0m eta \u001b[36m0:00:00\u001b[0m\n",
            "\u001b[?25hRequirement already satisfied: scipy!=1.9.2,>=1.4 in /Users/carlos/dev/soccermatics/soccer-env/lib/python3.9/site-packages (from statsmodels) (1.10.1)\n",
            "Requirement already satisfied: numpy>=1.18 in /Users/carlos/dev/soccermatics/soccer-env/lib/python3.9/site-packages (from statsmodels) (1.24.3)\n",
            "Requirement already satisfied: pytz>=2020.1 in /Users/carlos/dev/soccermatics/soccer-env/lib/python3.9/site-packages (from pandas>=1.0->statsmodels) (2023.3)\n",
            "Requirement already satisfied: tzdata>=2022.1 in /Users/carlos/dev/soccermatics/soccer-env/lib/python3.9/site-packages (from pandas>=1.0->statsmodels) (2023.3)\n",
            "Requirement already satisfied: python-dateutil>=2.8.2 in /Users/carlos/dev/soccermatics/soccer-env/lib/python3.9/site-packages (from pandas>=1.0->statsmodels) (2.8.2)\n",
            "Requirement already satisfied: six in /Users/carlos/dev/soccermatics/soccer-env/lib/python3.9/site-packages (from patsy>=0.5.2->statsmodels) (1.16.0)\n",
            "Installing collected packages: patsy, statsmodels\n",
            "Successfully installed patsy-0.5.3 statsmodels-0.14.0\n",
            "\u001b[33mWARNING: There was an error checking the latest version of pip.\u001b[0m\u001b[33m\n",
            "\u001b[0mNote: you may need to restart the kernel to use updated packages.\n"
          ]
        }
      ],
      "source": [
        "%pip install statsmodels"
      ]
    },
    {
      "cell_type": "code",
      "execution_count": 9,
      "metadata": {
        "collapsed": false
      },
      "outputs": [
        {
          "name": "stdout",
          "output_type": "stream",
          "text": [
            "P-value amounts to 0.142  - We do not reject null hypothesis - Heung-Min Son is ambidextrous\n"
          ]
        }
      ],
      "source": [
        "from statsmodels.stats.descriptivestats import sign_test\n",
        "test = sign_test(l, mu0 = 0)\n",
        "pvalue = test[1]\n",
        "\n",
        "if pvalue < 0.05:\n",
        "    print(\"P-value amounts to\", str(pvalue)[:5], \"- We reject null hypothesis - Heung-Min Son is not ambidextrous\")\n",
        "else:\n",
        "    print(\"P-value amounts to\", str(pvalue)[:5], \" - We do not reject null hypothesis - Heung-Min Son is ambidextrous\")"
      ]
    }
  ],
  "metadata": {
    "kernelspec": {
      "display_name": "Python 3",
      "language": "python",
      "name": "python3"
    },
    "language_info": {
      "codemirror_mode": {
        "name": "ipython",
        "version": 3
      },
      "file_extension": ".py",
      "mimetype": "text/x-python",
      "name": "python",
      "nbconvert_exporter": "python",
      "pygments_lexer": "ipython3",
      "version": "3.9.13"
    }
  },
  "nbformat": 4,
  "nbformat_minor": 0
}
