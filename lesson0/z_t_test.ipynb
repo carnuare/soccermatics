{
  "cells": [
    {
      "cell_type": "code",
      "execution_count": null,
      "metadata": {
        "collapsed": false
      },
      "outputs": [],
      "source": [
        "%matplotlib inline"
      ]
    },
    {
      "cell_type": "markdown",
      "metadata": {},
      "source": [
        "\n",
        "# Z and t-tests\n",
        "In this tutorial we demonstrate how to check if values are significantly different from each other \n",
        "using z-tests and t-tests\n"
      ]
    },
    {
      "attachments": {},
      "cell_type": "markdown",
      "metadata": {},
      "source": [
        "Z-tests and t-tests are statistical tests that help us make inferences or draw conclusions about a population based on sample data. They are commonly used in hypothesis testing and comparing groups.\n",
        "\n",
        "## Z-Test:\n",
        "A z-test is used when we know the population's standard deviation (a measure of how spread out the data is) and want to compare a sample mean to the population mean. It helps us determine if the difference between the sample mean and the population mean is statistically significant.\n",
        "\n",
        "## T-Test:\n",
        "A t-test is used when we don't know the population standard deviation and have to estimate it from the sample data. It is also used when the sample size is small. The t-test helps us compare the means of two groups (independent samples t-test) or test whether the mean of a sample differs significantly from a known or assumed population mean (one-sample t-test).\n",
        "\n",
        "The main difference between z-tests and t-tests is the use of the population standard deviation. In a z-test, we use the population standard deviation, while in a t-test, we estimate the standard deviation from the sample.\n",
        "\n",
        "To summarize:\n",
        "\n",
        "- Use a z-test when you know the population standard deviation and want to compare a sample mean to the population mean.\n",
        "- Use a t-test when you don't know the population standard deviation, estimate it from the sample, and when the sample size is small.\n",
        "\n",
        "Both tests provide a p-value, which indicates the probability of obtaining the observed results by chance. If the p-value is below a predetermined significance level (usually 0.05), we reject the null hypothesis (no difference) and conclude that there is a statistically significant difference."
      ]
    },
    {
      "cell_type": "code",
      "execution_count": 1,
      "metadata": {
        "collapsed": false
      },
      "outputs": [],
      "source": [
        "import pandas as pd\n",
        "import numpy as np\n",
        "import json\n",
        "# plotting\n",
        "import matplotlib.pyplot as plt\n",
        "#opening data\n",
        "import os\n",
        "import pathlib\n",
        "import warnings  \n",
        "# pd.options.mode.chained_assignment = None\n",
        "# warnings.filterwarnings('ignore')"
      ]
    },
    {
      "cell_type": "markdown",
      "metadata": {},
      "source": [
        "## Opening the dataset\n",
        "\n",
        "First we open the data. For this example we will use WyScout data from 2017/18 Premier League season.  To meet file size requirements of \n",
        "Github, we have to open it from different files,\n",
        "but you can open the file locally from the directory you saved it in. Also, we open the file containing all teams in WyScout database.\n",
        "\n"
      ]
    },
    {
      "cell_type": "code",
      "execution_count": null,
      "metadata": {
        "collapsed": false
      },
      "outputs": [],
      "source": [
        "# Tutorial cell\n",
        "\n",
        "#open events\n",
        "train = pd.DataFrame()\n",
        "for i in range(13):\n",
        "    file_name = 'events_England_' + str(i+1) + '.json'\n",
        "    path = os.path.join(str(pathlib.Path().resolve()), 'data', 'Wyscout', file_name)\n",
        "    with open(path) as f:\n",
        "        data = json.load(f)\n",
        "    train = pd.concat([train, pd.DataFrame(data)])\n",
        "    \n",
        "#open team data\n",
        "path = os.path.join(str(pathlib.Path().resolve()),\"data\", 'Wyscout', 'teams.json')\n",
        "with open(path) as f:\n",
        "    teams = json.load(f)\n",
        "\n",
        "teams_df = pd.DataFrame(teams)\n",
        "teams_df = teams_df.rename(columns={\"wyId\": \"teamId\"})"
      ]
    },
    {
      "cell_type": "code",
      "execution_count": 3,
      "metadata": {},
      "outputs": [
        {
          "name": "stdout",
          "output_type": "stream",
          "text": [
            "<class 'pandas.core.frame.DataFrame'>\n",
            "RangeIndex: 142 entries, 0 to 141\n",
            "Data columns (total 6 columns):\n",
            " #   Column        Non-Null Count  Dtype \n",
            "---  ------        --------------  ----- \n",
            " 0   city          142 non-null    object\n",
            " 1   name          142 non-null    object\n",
            " 2   teamId        142 non-null    int64 \n",
            " 3   officialName  142 non-null    object\n",
            " 4   area          142 non-null    object\n",
            " 5   type          142 non-null    object\n",
            "dtypes: int64(1), object(5)\n",
            "memory usage: 6.8+ KB\n"
          ]
        }
      ],
      "source": [
        "# information about all events that occured in all the games during 2017/18 Premier League\n",
        "path = '../wyscout-data/events/events_England.json'\n",
        "events_england = pd.read_json(path)\n",
        "\n",
        "# Open dataset with players\n",
        "path = '../wyscout-data/teams.json'\n",
        "teams_df = pd.read_json(path)\n",
        "teams_df = teams_df.rename(columns={\"wyId\": \"teamId\"})\n",
        "teams_df.info()\n"
      ]
    },
    {
      "cell_type": "markdown",
      "metadata": {},
      "source": [
        "## Preparing the dataset\n",
        "\n",
        "First, we take out corners. Then, we sum them by team. We also merge it together with team dataframe to keep their names.\n",
        "Then we repeat the same, but calculate corners taken by each team per game. \n",
        "\n"
      ]
    },
    {
      "cell_type": "code",
      "execution_count": 4,
      "metadata": {
        "collapsed": false
      },
      "outputs": [],
      "source": [
        "#get corners\n",
        "corners = events_england[events_england[\"subEventName\"] == \"Corner\"]\n",
        "#count corners by team\n",
        "corners_by_team = corners.groupby(['teamId']).size().reset_index(name='counts')\n",
        "#merge with team name\n",
        "summary = corners_by_team.merge(teams_df[[\"name\", \"teamId\"]], how = \"left\", on = [\"teamId\"])\n",
        "#count corners by team by game\n",
        "corners_by_game = corners.groupby(['teamId', \"matchId\"]).size().reset_index(name='counts')\n",
        "#merge with team name\n",
        "summary2 = corners_by_game.merge(teams_df[[\"name\", \"teamId\"]], how = \"left\", on = [\"teamId\"])"
      ]
    },
    {
      "cell_type": "markdown",
      "metadata": {},
      "source": [
        "## Two-sided z-test\n",
        "\n",
        "We use two-sided z-test to check if Manchester City take 8 corners per game. We set the significance level at 0.05.\n",
        "At this significance level, there's no reason to reject the null hypothesis. Therefore, we claim that City takes\n",
        "8 corners per game.\n",
        "\n"
      ]
    },
    {
      "cell_type": "code",
      "execution_count": 5,
      "metadata": {
        "collapsed": false
      },
      "outputs": [
        {
          "name": "stdout",
          "output_type": "stream",
          "text": [
            "P-value amounts to 0.34703298713007624  - We do not reject null hypothesis - Manchester City take 8 corners per game\n"
          ]
        }
      ],
      "source": [
        "from statsmodels.stats.weightstats import ztest\n",
        "\n",
        "#get city corners\n",
        "city_corners = summary2[summary2[\"name\"] == 'Manchester City'][\"counts\"]\n",
        "\n",
        "#test \n",
        "t, pvalue = ztest(city_corners,  value=8)\n",
        "#checking outcome\n",
        "if pvalue < 0.05:\n",
        "    print(\"P-value amounts to\", pvalue, \"- We reject null hypothesis - Manchester City do not take 8 corners per game\")\n",
        "else:\n",
        "    print(\"P-value amounts to\", pvalue, \" - We do not reject null hypothesis - Manchester City take 8 corners per game\")"
      ]
    },
    {
      "cell_type": "markdown",
      "metadata": {},
      "source": [
        "## One-sided z-test\n",
        "\n",
        "We use one-sided z-test to check if Manchester City take more than 6 corners per game. We set the significance level at 0.05.\n",
        "At this significance level, we reject the null hypothesis. Therefore, we claim that City takes\n",
        "more than 6 corners per game.\n",
        "\n"
      ]
    },
    {
      "cell_type": "code",
      "execution_count": 6,
      "metadata": {
        "collapsed": false
      },
      "outputs": [
        {
          "name": "stdout",
          "output_type": "stream",
          "text": [
            "P-value amounts to 0.0023931156479123942 - We reject null hypothesis - Manchester City take more than 6 corners per game\n"
          ]
        }
      ],
      "source": [
        "t, pvalue = ztest(city_corners,  value=6, alternative = \"larger\")\n",
        "if pvalue < 0.05:\n",
        "    print(\"P-value amounts to\", pvalue, \"- We reject null hypothesis - Manchester City take more than 6 corners per game\")\n",
        "else:\n",
        "    print(\"P-value amounts to\", pvalue, \" - We do not reject null hypothesis - Manchester City do not take 6 more corners per game\")"
      ]
    },
    {
      "attachments": {},
      "cell_type": "markdown",
      "metadata": {},
      "source": [
        "- Two-sided z-tests are used when you want to test if the sample mean is significantly different from the population mean, without specifying a particular direction.\n",
        "- One-sided z-tests are used when you have a specific direction in mind and want to test if the sample mean is significantly greater or less than the population mean."
      ]
    },
    {
      "cell_type": "markdown",
      "metadata": {},
      "source": [
        "## One-sample two-sided t-test\n",
        "\n",
        "We use one-sample t-test to check if Leicester City take different number of corners than the league average. We set the significance level at 0.05.\n",
        "At this significance level, there's no reason to reject the null hypothesis. Therefore, we claim that Leicester City take\n",
        "more than 6 corners per game. \n",
        "\n"
      ]
    },
    {
      "cell_type": "code",
      "execution_count": 7,
      "metadata": {
        "collapsed": false
      },
      "outputs": [
        {
          "name": "stdout",
          "output_type": "stream",
          "text": [
            "P-value amounts to 0.4023279517451914  - We do not reject null hypothesis - Leicester City take average number of corners than league average\n"
          ]
        }
      ],
      "source": [
        "mean = summary[\"counts\"].mean()\n",
        "std = summary[\"counts\"].std()\n",
        "\n",
        "\n",
        "from scipy.stats import ttest_1samp\n",
        "leicester_corners = summary.loc[summary[\"name\"] == \"Leicester City\"][\"counts\"].iloc[0]\n",
        "t, pvalue = ttest_1samp(summary[\"counts\"], leicester_corners)\n",
        "\n",
        "if pvalue < 0.05:\n",
        "    print(\"P-value amounts to\", pvalue, \"- We reject null hypothesis - Leicester City do not take average number of corners than league average\")\n",
        "else:\n",
        "    print(\"P-value amounts to\", pvalue, \" - We do not reject null hypothesis - Leicester City take average number of corners than league average\")"
      ]
    },
    {
      "cell_type": "markdown",
      "metadata": {},
      "source": [
        "## One-sample one-sided t-test\n",
        "\n",
        "We use one-sample t-test to check if Arsenal took more number of corners than the league average. We set the significance level at 0.05.\n",
        "At this significance level, we reject the null hypothesis. Therefore, we claim that Arsenal take\n",
        "more than 6 corners per game. \n",
        "\n"
      ]
    },
    {
      "cell_type": "code",
      "execution_count": 8,
      "metadata": {
        "collapsed": false
      },
      "outputs": [
        {
          "name": "stdout",
          "output_type": "stream",
          "text": [
            "P-value amounts to 0.001609869097090137 - We reject null hypothesis - Arsenal take more corners than league average\n"
          ]
        }
      ],
      "source": [
        "from scipy.stats import ttest_1samp\n",
        "arsenal_corners = summary.loc[summary[\"name\"] == \"Arsenal\"][\"counts\"].iloc[0]\n",
        "t, pvalue = ttest_1samp(summary[\"counts\"], arsenal_corners, alternative='less')\n",
        "\n",
        "if pvalue < 0.05:\n",
        "    print(\"P-value amounts to\", pvalue, \"- We reject null hypothesis - Arsenal take more corners than league average\")\n",
        "else:\n",
        "    print(\"P-value amounts to\", pvalue, \" - We do not reject null hypothesis - Arsenal do not take more corners than league average\")"
      ]
    },
    {
      "cell_type": "markdown",
      "metadata": {},
      "source": [
        "## Two-sample two-sided t-test\n",
        "\n",
        "We use two-sample t-test to check if Liverpool took different number of corners per game than the league average. We set the significance level at 0.05.\n",
        "At this significance level, there is no reason to reject the null hypothesis. Therefore, we claim that Liverpool took\n",
        "the same number of corners as United. \n",
        "\n"
      ]
    },
    {
      "cell_type": "code",
      "execution_count": 9,
      "metadata": {
        "collapsed": false
      },
      "outputs": [
        {
          "name": "stdout",
          "output_type": "stream",
          "text": [
            "P-value amounts to 0.5879909398542313  - We do not reject null hypothesis - Liverpool took the same number of corners per game as United\n"
          ]
        }
      ],
      "source": [
        "#check if united takes the same average number of corners per game as liverpool\n",
        "liverpool_corners = summary2.loc[summary2[\"name\"] == 'Liverpool'][\"counts\"]\n",
        "united_corners = summary2.loc[summary2[\"name\"] == 'Manchester United'][\"counts\"]\n",
        "\n",
        "from scipy.stats import ttest_ind\n",
        "t, pvalue  = ttest_ind(a=liverpool_corners, b=united_corners, equal_var=True)\n",
        "\n",
        "if pvalue < 0.05:\n",
        "    print(\"P-value amounts to\", pvalue, \"- We reject null hypothesis - Liverpool took different number of corners per game than United\")\n",
        "else:\n",
        "    print(\"P-value amounts to\", pvalue, \" - We do not reject null hypothesis - Liverpool took the same number of corners per game as United\")"
      ]
    },
    {
      "cell_type": "markdown",
      "metadata": {},
      "source": [
        "## Two-sample one-sided t-test\n",
        "\n",
        "We use two-sample t-test to check if Manchester City took more corners per game than Newcastle. We set the significance level at 0.05.\n",
        "At this significance level, we reject the null hypothesis. Therefore, we claim that City took\n",
        "more corners than Newcastle. \n",
        "\n"
      ]
    },
    {
      "cell_type": "code",
      "execution_count": 10,
      "metadata": {
        "collapsed": false
      },
      "outputs": [
        {
          "name": "stdout",
          "output_type": "stream",
          "text": [
            "P-value amounts to 1.4280208353516603e-05 - We reject null hypothesis - City took more corners per game than Newcastle\n"
          ]
        }
      ],
      "source": [
        "city_corners = summary2.loc[summary2[\"name\"] == 'Manchester City'][\"counts\"]\n",
        "castle_corners = summary2.loc[summary2[\"name\"] == 'Newcastle United'][\"counts\"]\n",
        "\n",
        "from scipy.stats import ttest_ind\n",
        "t, pvalue  = ttest_ind(a=city_corners, b=castle_corners, equal_var=True, alternative = \"greater\")\n",
        "\n",
        "if pvalue < 0.05:\n",
        "    print(\"P-value amounts to\", pvalue, \"- We reject null hypothesis - City took more corners per game than Newcastle\")\n",
        "else:\n",
        "    print(\"P-value amounts to\", pvalue, \" - We do not reject null hypothesis - City did not  take the more corners per game than Newcastle\")"
      ]
    },
    {
      "attachments": {},
      "cell_type": "markdown",
      "metadata": {},
      "source": []
    }
  ],
  "metadata": {
    "kernelspec": {
      "display_name": "Python 3",
      "language": "python",
      "name": "python3"
    },
    "language_info": {
      "codemirror_mode": {
        "name": "ipython",
        "version": 3
      },
      "file_extension": ".py",
      "mimetype": "text/x-python",
      "name": "python",
      "nbconvert_exporter": "python",
      "pygments_lexer": "ipython3",
      "version": "3.9.13"
    }
  },
  "nbformat": 4,
  "nbformat_minor": 0
}
